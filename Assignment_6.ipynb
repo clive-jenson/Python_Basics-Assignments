{
 "cells": [
  {
   "cell_type": "markdown",
   "id": "0f1e4e37",
   "metadata": {},
   "source": [
    "# Python Basics - Assignments\n",
    "--------------------------"
   ]
  },
  {
   "cell_type": "markdown",
   "id": "6007461d",
   "metadata": {},
   "source": [
    "### 1. What are escape characters, and how do you use them?\n",
    "Escape characters are characters in string values that are difficult to type normally. For instance: if you need a new line inside a string `\\n` is used, other escape characters inclue `\\t, \\\\, \\b `etc\n"
   ]
  },
  {
   "cell_type": "markdown",
   "id": "9a30eaf0",
   "metadata": {},
   "source": [
    "### 2. What do the escape characters n and t stand for?\n",
    "`\\n - new line`\n",
    "\n",
    "`\\t - tab`"
   ]
  },
  {
   "cell_type": "markdown",
   "id": "c0e4362a",
   "metadata": {},
   "source": [
    "### 3. What is the way to include backslash characters in a string?\n",
    "`\\\\` - backslash character."
   ]
  },
  {
   "cell_type": "markdown",
   "id": "916160fd",
   "metadata": {},
   "source": [
    "### 4. The string &quot;Howl&#39;s Moving Castle&quot; is a correct value. Why isn&#39;t the single quote character in the word Howl&#39;s not escaped a problem?\n",
    "This is because the string is enclosed using double  quote `\"\"` at the beginning and end, therefore single `'` in howl's doesn't matter"
   ]
  },
  {
   "cell_type": "markdown",
   "id": "6b41c8f3",
   "metadata": {},
   "source": [
    "### 5. How do you write a string of newlines if you don&#39;t want to use the n character?\n",
    "Multiline strings using triple quotes  `'''  ''' ` "
   ]
  },
  {
   "cell_type": "markdown",
   "id": "d27dc198",
   "metadata": {},
   "source": [
    "### 6. What are the values of the given expressions?\n",
    "`'Hello, world!'[1]`\n",
    "\n",
    "**'H'**\n",
    "\n",
    "`'Hello, world!'[0:5]`\n",
    "\n",
    "**'Hello'**\n",
    "\n",
    "`'Hello, world!'[:5]`\n",
    "\n",
    "**'Hello'**\n",
    "\n",
    "`'Hello, world!'[3:]`\n",
    "\n",
    "**'lo, world!'**"
   ]
  },
  {
   "cell_type": "markdown",
   "id": "b963c37c",
   "metadata": {},
   "source": [
    "### 7. What are the values of the following expressions?\n",
    "\n",
    "`'Hello'.upper()`\n",
    "\n",
    "**'HELLO'**\n",
    "\n",
    "`'Hello'.upper().isupper()`\n",
    "\n",
    "**True**\n",
    "\n",
    "`'Hello'.upper().lower()`\n",
    "\n",
    "**'hello'**"
   ]
  },
  {
   "cell_type": "markdown",
   "id": "ec445f7c",
   "metadata": {},
   "source": [
    "### 8. What are the values of the following expressions?\n",
    "`'Remember, remember, the fifth of July.'.split()`\n",
    "\n",
    "<b>`['Remember,', 'remember,', 'the', 'fifth', 'of', 'July.']`</b>\n",
    "\n",
    "`'-'.join('There can only one.'.split())`\n",
    "\n",
    "<b>`'There-can-only-one.'`</b>"
   ]
  },
  {
   "cell_type": "markdown",
   "id": "5fbde9e4",
   "metadata": {},
   "source": [
    "### 9. What are the methods for right-justifying, left-justifying, and centering a string?\n",
    "`rjust()` - right- justifying\n",
    "\n",
    "`ljust()` - left- justifying\n",
    "\n",
    "`center()`- centering string"
   ]
  },
  {
   "cell_type": "markdown",
   "id": "53b01026",
   "metadata": {},
   "source": [
    "### 10. What is the best way to remove whitespace characters from the start or end?\n",
    "`lstrip()` - methods remove whitespace from left ends of a string\n",
    "\n",
    "`rstrip()` - methods remove whitespace from right ends of a string"
   ]
  }
 ],
 "metadata": {
  "kernelspec": {
   "display_name": "Python 3 (ipykernel)",
   "language": "python",
   "name": "python3"
  },
  "language_info": {
   "codemirror_mode": {
    "name": "ipython",
    "version": 3
   },
   "file_extension": ".py",
   "mimetype": "text/x-python",
   "name": "python",
   "nbconvert_exporter": "python",
   "pygments_lexer": "ipython3",
   "version": "3.9.7"
  }
 },
 "nbformat": 4,
 "nbformat_minor": 5
}
