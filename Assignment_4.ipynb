{
 "cells": [
  {
   "cell_type": "markdown",
   "id": "4643f652",
   "metadata": {},
   "source": [
    "# Python Basics - Assignments\n",
    "--------------------------"
   ]
  },
  {
   "cell_type": "markdown",
   "id": "4a775b97",
   "metadata": {},
   "source": [
    "### 1. What exactly is []?\n",
    "The square brackets are used to create a **list** in python. Any variable can be named using assignment operator ```=``` followed by ```[]``` to create a list \n",
    "\n",
    "i.e. ```ls = ['red', 11, True, 'Blue' ]``` , and the elements are separated using commas ```(,)```. \n",
    "\n",
    "The properties of list are that they are **muttable** in nature i.e the items or elements inside the list can be modified. \n",
    "\n",
    "They can store different data types such as **int, float, string, Bool**.\n",
    "\n",
    "In the above question ```[]``` represents an **empty list** i.e. it has no values inside \n"
   ]
  },
  {
   "cell_type": "markdown",
   "id": "83f965bc",
   "metadata": {},
   "source": [
    "### 2. In a list of values stored in a variable called spam, how would you assign the value &#39;hello&#39; as the third value? (Assume [2, 4, 6, 8, 10] are in spam.)\n",
    "In order to replace the third value from the given list, the index location of it i.e. **2** is modified by using ```listname[index location] = \"value\"```\n"
   ]
  },
  {
   "cell_type": "code",
   "execution_count": 1,
   "id": "897d5f6b",
   "metadata": {},
   "outputs": [
    {
     "data": {
      "text/plain": [
       "[2, 4, 'hello', 8, 10]"
      ]
     },
     "execution_count": 1,
     "metadata": {},
     "output_type": "execute_result"
    }
   ],
   "source": [
    "# Solution 2\n",
    "spam = [2,4,6,8,10]\n",
    "spam[2] = \"hello\"\n",
    "spam"
   ]
  },
  {
   "cell_type": "code",
   "execution_count": 2,
   "id": "019af746",
   "metadata": {},
   "outputs": [],
   "source": [
    "# Question 3,4 and 5\n",
    "spam = ['a','b','c','d']"
   ]
  },
  {
   "cell_type": "markdown",
   "id": "40a43bc8",
   "metadata": {},
   "source": [
    "### 3. What is the value of spam[int(int(&#39;3&#39; * 2) / 11)]?\n",
    "It will return the index 3 location. The explanation is as follows\n",
    "\n",
    "```'3' * 2 = '33' and int('33')= 33 ```\n",
    "\n",
    "```Therefore, int(33/11) gives 3```\n",
    "\n",
    "    index 3 corresponds to 'd'\n"
   ]
  },
  {
   "cell_type": "code",
   "execution_count": 3,
   "id": "9f70cc5b",
   "metadata": {},
   "outputs": [
    {
     "data": {
      "text/plain": [
       "'d'"
      ]
     },
     "execution_count": 3,
     "metadata": {},
     "output_type": "execute_result"
    }
   ],
   "source": [
    "# Solution 3\n",
    "spam[int(int('3'*2)/11)]"
   ]
  },
  {
   "cell_type": "markdown",
   "id": "43e7b6a5",
   "metadata": {},
   "source": [
    "###  4. What is the value of spam[-1]?\n",
    "It will return the last element in the list i.e. 'd'"
   ]
  },
  {
   "cell_type": "code",
   "execution_count": 4,
   "id": "462c8bc1",
   "metadata": {},
   "outputs": [
    {
     "data": {
      "text/plain": [
       "'d'"
      ]
     },
     "execution_count": 4,
     "metadata": {},
     "output_type": "execute_result"
    }
   ],
   "source": [
    "# Solution 4\n",
    "spam[-1]"
   ]
  },
  {
   "cell_type": "markdown",
   "id": "1ba79af0",
   "metadata": {},
   "source": [
    "### 5. What is the value of spam[:2]?\n",
    "```spam[:2]``` gives elements from ```0 to 1``` excluding the upper bound ```2```.\n",
    "\n",
    "Therefore, ```['a','b']``` is the result"
   ]
  },
  {
   "cell_type": "code",
   "execution_count": 5,
   "id": "fd2af02b",
   "metadata": {},
   "outputs": [
    {
     "data": {
      "text/plain": [
       "['a', 'b']"
      ]
     },
     "execution_count": 5,
     "metadata": {},
     "output_type": "execute_result"
    }
   ],
   "source": [
    "# Solution 5 \n",
    "spam[:2]"
   ]
  },
  {
   "cell_type": "code",
   "execution_count": 6,
   "id": "89cf5349",
   "metadata": {},
   "outputs": [],
   "source": [
    "# Question 5,6, and 7\n",
    "bacon = [3.14,'cat',11,'cat',True]"
   ]
  },
  {
   "cell_type": "markdown",
   "id": "a4ced736",
   "metadata": {},
   "source": [
    "### 6. What is the value of bacon.index(&#39;cat&#39;)?\n",
    "In the given list the count for ```'cat'``` gives 2, therefore the first index will be returned in the list i.e. **index 1**"
   ]
  },
  {
   "cell_type": "code",
   "execution_count": 7,
   "id": "fe745ccc",
   "metadata": {},
   "outputs": [
    {
     "name": "stdout",
     "output_type": "stream",
     "text": [
      "2\n"
     ]
    },
    {
     "data": {
      "text/plain": [
       "1"
      ]
     },
     "execution_count": 7,
     "metadata": {},
     "output_type": "execute_result"
    }
   ],
   "source": [
    "# Solution 6\n",
    "print(bacon.count('cat'))\n",
    " \n",
    "bacon.index('cat')\n"
   ]
  },
  {
   "cell_type": "markdown",
   "id": "be4c42c5",
   "metadata": {},
   "source": [
    "### 7. How does bacon.append(99) change the look of the list value in bacon?\n",
    "The list is modified such that ```99``` is added to as the last element by default."
   ]
  },
  {
   "cell_type": "code",
   "execution_count": 8,
   "id": "4c13d3c5",
   "metadata": {},
   "outputs": [
    {
     "data": {
      "text/plain": [
       "[3.14, 'cat', 11, 'cat', True, 99]"
      ]
     },
     "execution_count": 8,
     "metadata": {},
     "output_type": "execute_result"
    }
   ],
   "source": [
    "# Solution 7\n",
    "bacon = [3.14,'cat',11,'cat',True]\n",
    "bacon.append(99)\n",
    "bacon\n"
   ]
  },
  {
   "cell_type": "markdown",
   "id": "070e3d46",
   "metadata": {},
   "source": [
    "### 8. How does bacon.remove(&#39;cat&#39;) change the look of the list in bacon?\n",
    "The element from the index is removed from the list.\n",
    "\n",
    "As there are two same elements i.e. ```'cat'``` the index corresponding to the first ```'cat'``` will be removed."
   ]
  },
  {
   "cell_type": "code",
   "execution_count": 9,
   "id": "9a6a030a",
   "metadata": {},
   "outputs": [
    {
     "data": {
      "text/plain": [
       "[3.14, 11, 'cat', True]"
      ]
     },
     "execution_count": 9,
     "metadata": {},
     "output_type": "execute_result"
    }
   ],
   "source": [
    "# Solution 8 \n",
    "bacon = [3.14,'cat',11,'cat',True]\n",
    "bacon.remove('cat')\n",
    "bacon"
   ]
  },
  {
   "cell_type": "markdown",
   "id": "d580c17f",
   "metadata": {},
   "source": [
    "### 9. What are the list concatenation and list replication operators?"
   ]
  },
  {
   "cell_type": "markdown",
   "id": "b5eff276",
   "metadata": {},
   "source": [
    "### 10. What is difference between the list methods append() and insert()?"
   ]
  },
  {
   "cell_type": "markdown",
   "id": "aec478c9",
   "metadata": {},
   "source": [
    "### 11. What are the two methods for removing items from a list?"
   ]
  },
  {
   "cell_type": "markdown",
   "id": "9e1b69a7",
   "metadata": {},
   "source": [
    "### 12. Describe how list values and string values are identical."
   ]
  },
  {
   "cell_type": "markdown",
   "id": "1b3926ff",
   "metadata": {},
   "source": [
    "### 13. What&#39;s the difference between tuples and lists?"
   ]
  },
  {
   "cell_type": "markdown",
   "id": "fda0970b",
   "metadata": {},
   "source": [
    "### 14. How do you type a tuple value that only contains the integer 42?"
   ]
  },
  {
   "cell_type": "markdown",
   "id": "33dcbbcb",
   "metadata": {},
   "source": [
    "### 15. How do you get a list value&#39;s tuple form? How do you get a tuple value&#39;s list form?"
   ]
  },
  {
   "cell_type": "markdown",
   "id": "f4ef1d2c",
   "metadata": {},
   "source": [
    "### 16. Variables that &quot;contain&quot; list values are not necessarily lists themselves. Instead, what do they contain?"
   ]
  },
  {
   "cell_type": "markdown",
   "id": "c80f00a2",
   "metadata": {},
   "source": [
    "### 17. How do you distinguish between copy.copy() and copy.deepcopy()?"
   ]
  },
  {
   "cell_type": "code",
   "execution_count": null,
   "id": "3bc349e9",
   "metadata": {},
   "outputs": [],
   "source": []
  }
 ],
 "metadata": {
  "kernelspec": {
   "display_name": "Python 3 (ipykernel)",
   "language": "python",
   "name": "python3"
  },
  "language_info": {
   "codemirror_mode": {
    "name": "ipython",
    "version": 3
   },
   "file_extension": ".py",
   "mimetype": "text/x-python",
   "name": "python",
   "nbconvert_exporter": "python",
   "pygments_lexer": "ipython3",
   "version": "3.9.7"
  }
 },
 "nbformat": 4,
 "nbformat_minor": 5
}
