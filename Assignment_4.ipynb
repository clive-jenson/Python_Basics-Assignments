{
 "cells": [
  {
   "cell_type": "markdown",
   "id": "606e9607",
   "metadata": {},
   "source": [
    "# Python Basics - Assignments\n",
    "--------------------------"
   ]
  },
  {
   "cell_type": "markdown",
   "id": "ad457848",
   "metadata": {},
   "source": [
    "### 1. What exactly is []?\n",
    "The square brackets are used to create a **list** in python. Any variable can be named using assignment operator ```=``` followed by ```[]``` to create a list \n",
    "\n",
    "i.e. ```ls = ['red', 11, True, 'Blue' ]``` , and the elements are separated using commas ```(,)```. \n",
    "\n",
    "The properties of list are that they are **muttable** in nature i.e the items or elements inside the list can be modified. \n",
    "\n",
    "They can store different data types such as **int, float, string, Bool**.\n",
    "\n",
    "In the above question ```[]``` represents an **empty list** i.e. it has no values inside \n"
   ]
  },
  {
   "cell_type": "markdown",
   "id": "91e1210f",
   "metadata": {},
   "source": [
    "### 2. In a list of values stored in a variable called spam, how would you assign the value &#39;hello&#39; as the third value? (Assume [2, 4, 6, 8, 10] are in spam.)\n",
    "In order to replace the third value from the given list, the index location of it i.e. **2** is modified by using ```listname[index location] = \"value\"```\n"
   ]
  },
  {
   "cell_type": "code",
   "execution_count": 1,
   "id": "4704d69a",
   "metadata": {},
   "outputs": [
    {
     "data": {
      "text/plain": [
       "[2, 4, 'hello', 8, 10]"
      ]
     },
     "execution_count": 1,
     "metadata": {},
     "output_type": "execute_result"
    }
   ],
   "source": [
    "# Solution 2\n",
    "spam = [2,4,6,8,10]\n",
    "spam[2] = \"hello\"\n",
    "spam"
   ]
  },
  {
   "cell_type": "code",
   "execution_count": 2,
   "id": "1673e290",
   "metadata": {},
   "outputs": [],
   "source": [
    "# Question 3,4 and 5\n",
    "spam = ['a','b','c','d']"
   ]
  },
  {
   "cell_type": "markdown",
   "id": "4854ad17",
   "metadata": {},
   "source": [
    "### 3. What is the value of spam[int(int(&#39;3&#39; * 2) / 11)]?\n",
    "It will return the index 3 location. The explanation is as follows\n",
    "\n",
    "```'3' * 2 = '33' and int('33')= 33 ```\n",
    "\n",
    "```Therefore, int(33/11) gives 3```\n",
    "\n",
    "    index 3 corresponds to 'd'\n"
   ]
  },
  {
   "cell_type": "code",
   "execution_count": 3,
   "id": "36b139e8",
   "metadata": {},
   "outputs": [
    {
     "data": {
      "text/plain": [
       "'d'"
      ]
     },
     "execution_count": 3,
     "metadata": {},
     "output_type": "execute_result"
    }
   ],
   "source": [
    "# Solution 3\n",
    "spam[int(int('3'*2)/11)]"
   ]
  },
  {
   "cell_type": "markdown",
   "id": "4b333384",
   "metadata": {},
   "source": [
    "###  4. What is the value of spam[-1]?\n",
    "It will return the last element in the list i.e. 'd'"
   ]
  },
  {
   "cell_type": "code",
   "execution_count": 4,
   "id": "ff16fede",
   "metadata": {},
   "outputs": [
    {
     "data": {
      "text/plain": [
       "'d'"
      ]
     },
     "execution_count": 4,
     "metadata": {},
     "output_type": "execute_result"
    }
   ],
   "source": [
    "# Solution 4\n",
    "spam[-1]"
   ]
  },
  {
   "cell_type": "markdown",
   "id": "1af0b3e1",
   "metadata": {},
   "source": [
    "### 5. What is the value of spam[:2]?\n",
    "```spam[:2]``` gives elements from ```0 to 1``` excluding the upper bound ```2```.\n",
    "\n",
    "Therefore, ```['a','b']``` is the result"
   ]
  },
  {
   "cell_type": "code",
   "execution_count": 5,
   "id": "68bc6fe4",
   "metadata": {},
   "outputs": [
    {
     "data": {
      "text/plain": [
       "['a', 'b']"
      ]
     },
     "execution_count": 5,
     "metadata": {},
     "output_type": "execute_result"
    }
   ],
   "source": [
    "# Solution 5 \n",
    "spam[:2]"
   ]
  },
  {
   "cell_type": "code",
   "execution_count": 6,
   "id": "780eaca0",
   "metadata": {},
   "outputs": [],
   "source": [
    "# Question 5,6, and 7\n",
    "bacon = [3.14,'cat',11,'cat',True]"
   ]
  },
  {
   "cell_type": "markdown",
   "id": "e9ef66ab",
   "metadata": {},
   "source": [
    "### 6. What is the value of bacon.index(&#39;cat&#39;)?\n",
    "In the given list the count for ```'cat'``` gives 2, therefore the first index will be returned in the list i.e. **index 1**"
   ]
  },
  {
   "cell_type": "code",
   "execution_count": 7,
   "id": "5519573e",
   "metadata": {},
   "outputs": [
    {
     "name": "stdout",
     "output_type": "stream",
     "text": [
      "2\n"
     ]
    },
    {
     "data": {
      "text/plain": [
       "1"
      ]
     },
     "execution_count": 7,
     "metadata": {},
     "output_type": "execute_result"
    }
   ],
   "source": [
    "# Solution 6\n",
    "print(bacon.count('cat'))\n",
    " \n",
    "bacon.index('cat')\n"
   ]
  },
  {
   "cell_type": "markdown",
   "id": "db5e0425",
   "metadata": {},
   "source": [
    "### 7. How does bacon.append(99) change the look of the list value in bacon?\n",
    "The list is modified such that ```99``` is added to as the last element by default."
   ]
  },
  {
   "cell_type": "code",
   "execution_count": 8,
   "id": "b97fba46",
   "metadata": {},
   "outputs": [
    {
     "data": {
      "text/plain": [
       "[3.14, 'cat', 11, 'cat', True, 99]"
      ]
     },
     "execution_count": 8,
     "metadata": {},
     "output_type": "execute_result"
    }
   ],
   "source": [
    "# Solution 7\n",
    "bacon = [3.14,'cat',11,'cat',True]\n",
    "bacon.append(99)\n",
    "bacon\n"
   ]
  },
  {
   "cell_type": "markdown",
   "id": "8f5a6259",
   "metadata": {},
   "source": [
    "### 8. How does bacon.remove(&#39;cat&#39;) change the look of the list in bacon?\n",
    "The element from the index is removed from the list.\n",
    "\n",
    "As there are two same elements i.e. ```'cat'``` the index corresponding to the first ```'cat'``` will be removed."
   ]
  },
  {
   "cell_type": "code",
   "execution_count": 9,
   "id": "b9735123",
   "metadata": {},
   "outputs": [
    {
     "data": {
      "text/plain": [
       "[3.14, 11, 'cat', True]"
      ]
     },
     "execution_count": 9,
     "metadata": {},
     "output_type": "execute_result"
    }
   ],
   "source": [
    "# Solution 8 \n",
    "bacon = [3.14,'cat',11,'cat',True]\n",
    "bacon.remove('cat')\n",
    "bacon"
   ]
  },
  {
   "cell_type": "markdown",
   "id": "92817dd6",
   "metadata": {},
   "source": [
    "### 9. What are the list concatenation and list replication operators?\n",
    "list concatenation operator - ```+``` - It is used to add to list together \n",
    "\n",
    "list replication operator - ```*``` - It multiplies or replicates the list a number of times specified"
   ]
  },
  {
   "cell_type": "markdown",
   "id": "a3067487",
   "metadata": {},
   "source": [
    "### 10. What is difference between the list methods append() and insert()?**\n",
    "**append ()** -  This method is used to add an element in a list, and the element is added at the end of the list. To add multiple elements a list can be passed as input (takes exactly one argument).\n",
    "\n",
    "**insert ()** - This method is used to add an element at the desired index or location. It takes two arguments \n",
    "\n",
    "i.e. ```list1.insert(index, entry)``` \n"
   ]
  },
  {
   "cell_type": "markdown",
   "id": "66b32c4d",
   "metadata": {},
   "source": [
    "### 11. What are the two methods for removing items from a list?\n",
    "1. ```list1.pop()``` - It is used to remove a value from a specified index. It returns if the index value is not present in the list, also it returns the item removed.\n",
    "\n",
    "\n",
    "2. ```list1.remove()``` - It is used to remove the first matching value from a given list. It does not return anything and shows missing error or item not in list."
   ]
  },
  {
   "cell_type": "markdown",
   "id": "5a878ff1",
   "metadata": {},
   "source": [
    "### 12. Describe how list values and string values are identical.\n",
    "**List** is a order of collection of elements. \n",
    "It is similar to strings as strings by themselves are collection of characters. \n",
    "\n",
    "Morever, the method of indexing works in both list and strings. They are muttable in nature, and a key difference is that list can store different data types such as int, float, bool etc. \n"
   ]
  },
  {
   "cell_type": "markdown",
   "id": "5f285f8a",
   "metadata": {},
   "source": [
    "### 13. What&#39;s the difference between tuples and lists?\n",
    "**Tuples** are objects which are immutable in nature i.e. the individual elements once stated cannot be modified or changed.\n",
    "\n",
    "**lists** are objects on the other hand which are mutable in nature and they can be modified at the individual entry level. \n"
   ]
  },
  {
   "cell_type": "markdown",
   "id": "af22bf6a",
   "metadata": {},
   "source": [
    "### 14. How do you type a tuple value that only contains the integer 42?\n",
    "``num = (42,)`` - After the integer or element comma ``(,)`` is mentioned to make it a tuple value."
   ]
  },
  {
   "cell_type": "markdown",
   "id": "cf629082",
   "metadata": {},
   "source": [
    "### 15. How do you get a list value's tuple form? How do you get a tuple value's list form?\n",
    "The `tuple()` and `list()` functions are used to get the desired result."
   ]
  },
  {
   "cell_type": "markdown",
   "id": "55ed074e",
   "metadata": {},
   "source": [
    "### 16. Variables that \"contain\" list values are not necessarily lists themselves. Instead, what do they contain?\n",
    "This is because list variables don’t actually contain lists, they contain references to lists. Therefore, if two variables are assigned to one another, the list reference is copied to the second variable. If any changes is done to it, it reflects in the first variable.\n",
    "\n",
    "example: \n",
    "\n",
    "`list1 = [1,2,3,4]`\n",
    "\n",
    "`list1 = num\n",
    "num[1] = 'hello' # This makes changes in the parent list too i.e. (list1)\n",
    "list1 = [1,'hello',3,4]`\n",
    "\n"
   ]
  },
  {
   "cell_type": "markdown",
   "id": "c737cb84",
   "metadata": {},
   "source": [
    "### 17. How do you distinguish between copy.copy() and copy.deepcopy()?\n",
    "`copy.copy()` - Here the collection of elements are copied with reference to the parent. Therefore, any changes in the child copy will reflect in the parent copy. It is also called as shallow copying.\n",
    "\n",
    "`copy.deepcopy()` - In case of deep copy, the collection of elements are copied recursively to another object. Therefore, any changes in the child copy will not affect the parent."
   ]
  }
 ],
 "metadata": {
  "kernelspec": {
   "display_name": "Python 3 (ipykernel)",
   "language": "python",
   "name": "python3"
  },
  "language_info": {
   "codemirror_mode": {
    "name": "ipython",
    "version": 3
   },
   "file_extension": ".py",
   "mimetype": "text/x-python",
   "name": "python",
   "nbconvert_exporter": "python",
   "pygments_lexer": "ipython3",
   "version": "3.9.7"
  }
 },
 "nbformat": 4,
 "nbformat_minor": 5
}
