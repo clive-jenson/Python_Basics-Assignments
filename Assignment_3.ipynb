{
 "cells": [
  {
   "cell_type": "markdown",
   "id": "0a622cb1",
   "metadata": {},
   "source": [
    "# Python Basics - Assignments\n",
    "--------------------------"
   ]
  },
  {
   "cell_type": "markdown",
   "id": "b51c9778",
   "metadata": {},
   "source": [
    "### 1. Why are functions advantageous to have in your programs?\n",
    "It's is quite evident that writing a code that performs the same task again and again could be cubersome. The effectiveness of a code cannot be evaluated only based on the functionality, moreover the code needs to be **highly efficient and reusable** so as to make things easier for the user.\n",
    "\n",
    "This is where **functions** come into action. They can be easily reused again and again, also customizable according to our needs."
   ]
  },
  {
   "cell_type": "markdown",
   "id": "3fbb8c78",
   "metadata": {},
   "source": [
    "### 2. When does the code in a function run: when it&#39;s specified or when it&#39;s called? \n",
    "**Functions** needs to be called in order to run, and the code jumps from where the function is called and further runs each line inside the function from top to bottom. Once the function completes running, the code goes back to from where it started.\n",
    "\n",
    "Therefore, after being specified in the file the function can be called any number of times provided it is available either by importing a library or a file module consisting of the function. Default in-built functions such as **print(), input()** fetches from the inbuilt module and runs when it's called"
   ]
  },
  {
   "cell_type": "markdown",
   "id": "f8b12254",
   "metadata": {},
   "source": [
    "### 3. What statement creates a function?\n",
    "The statement to create a function has to start with        \n",
    "\n",
    "<center>  <b>def</b> function name(arguments or variables): </center>\n",
    "\n",
    "After the semicolon, the necessary pieces of code are written according to the user to perform a specific task"
   ]
  },
  {
   "cell_type": "markdown",
   "id": "d9850641",
   "metadata": {},
   "source": [
    "### 4. What is the difference between a function and a function call?\n",
    "A **function** is a piece of code that does a specified task and returns a result. It requires input parameters and returns a result. Also these parameters are not neccesary mentioned in all cases.\n",
    "\n",
    "A **function call** is about the working of the function. It is done to execute the function and obtain result based on input parameters. It is called anywhere in a code file using the name of the function with parenthesis ()."
   ]
  },
  {
   "cell_type": "markdown",
   "id": "ad01968d",
   "metadata": {},
   "source": [
    "### 5. How many global scopes are there in a Python program? How many local scopes?"
   ]
  },
  {
   "cell_type": "markdown",
   "id": "e3934abc",
   "metadata": {},
   "source": [
    "### 6. What happens to variables in a local scope when the function call returns?\n"
   ]
  },
  {
   "cell_type": "markdown",
   "id": "80f3679f",
   "metadata": {},
   "source": [
    "### 7. What is the concept of a return value? Is it possible to have a return value in an expression?"
   ]
  },
  {
   "cell_type": "markdown",
   "id": "29013370",
   "metadata": {},
   "source": [
    "### 8. If a function does not have a return statement, what is the return value of a call to that function?\n",
    "In general, a return statement is used in a function to end the execution and also return any value to be stored inside a variable or a string, bool statement etc. The default value in case nothing is mentioned explicitly is **None**"
   ]
  },
  {
   "cell_type": "markdown",
   "id": "05b710d3",
   "metadata": {},
   "source": [
    "### 9. How do you make a function variable refer to the global variable?"
   ]
  },
  {
   "cell_type": "markdown",
   "id": "d8c38069",
   "metadata": {},
   "source": [
    "### 10. What is the data type of None? \n",
    "**None** is used to refer to Null values, and it is not to be taken explicitly as zero, False, empty string. None keyword is an object, and it is a data type of its own i.e. the class NoneType.\n"
   ]
  },
  {
   "cell_type": "markdown",
   "id": "17081c4c",
   "metadata": {},
   "source": [
    "### 11. What does the sentence import areallyourpetsnamederic do?\n",
    "It will give an error message. As there is no module named as areallyourpertsnamederic error message pops up, the following error is shown below."
   ]
  },
  {
   "cell_type": "code",
   "execution_count": 2,
   "id": "77f29ade",
   "metadata": {},
   "outputs": [
    {
     "ename": "ModuleNotFoundError",
     "evalue": "No module named 'areallyourpetsnamederic'",
     "output_type": "error",
     "traceback": [
      "\u001b[1;31m---------------------------------------------------------------------------\u001b[0m",
      "\u001b[1;31mModuleNotFoundError\u001b[0m                       Traceback (most recent call last)",
      "\u001b[1;32m~\\AppData\\Local\\Temp/ipykernel_1460/2539693959.py\u001b[0m in \u001b[0;36m<module>\u001b[1;34m\u001b[0m\n\u001b[0;32m      1\u001b[0m \u001b[1;31m# 11 Answer\u001b[0m\u001b[1;33m\u001b[0m\u001b[1;33m\u001b[0m\u001b[0m\n\u001b[1;32m----> 2\u001b[1;33m \u001b[1;32mimport\u001b[0m \u001b[0mareallyourpetsnamederic\u001b[0m\u001b[1;33m\u001b[0m\u001b[1;33m\u001b[0m\u001b[0m\n\u001b[0m",
      "\u001b[1;31mModuleNotFoundError\u001b[0m: No module named 'areallyourpetsnamederic'"
     ]
    }
   ],
   "source": [
    "# 11 Answer\n",
    "import areallyourpetsnamederic"
   ]
  },
  {
   "cell_type": "markdown",
   "id": "e0c00b43",
   "metadata": {},
   "source": [
    "### 12. If you had a bacon() feature in a spam module, what would you call it after importing spam?\n",
    "Yes. In order to run the bacon() function it needs to be imported from the spam module. The code for importing and calling the function could be written as:\n",
    "```import spam as sm\n",
    " sm.bacon()```"
   ]
  },
  {
   "cell_type": "markdown",
   "id": "d3b494b4",
   "metadata": {},
   "source": [
    "### 13. What can you do to save a programme from crashing if it encounters an error?\n"
   ]
  },
  {
   "cell_type": "markdown",
   "id": "8730ea57",
   "metadata": {},
   "source": [
    "### 14. What is the purpose of the try clause? What is the purpose of the except clause?"
   ]
  },
  {
   "cell_type": "code",
   "execution_count": null,
   "id": "ea5effa8",
   "metadata": {},
   "outputs": [],
   "source": []
  }
 ],
 "metadata": {
  "kernelspec": {
   "display_name": "Python 3 (ipykernel)",
   "language": "python",
   "name": "python3"
  },
  "language_info": {
   "codemirror_mode": {
    "name": "ipython",
    "version": 3
   },
   "file_extension": ".py",
   "mimetype": "text/x-python",
   "name": "python",
   "nbconvert_exporter": "python",
   "pygments_lexer": "ipython3",
   "version": "3.9.7"
  }
 },
 "nbformat": 4,
 "nbformat_minor": 5
}
