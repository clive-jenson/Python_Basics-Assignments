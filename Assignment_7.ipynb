{
 "cells": [
  {
   "cell_type": "markdown",
   "id": "83920b17",
   "metadata": {},
   "source": [
    "# Python Basics - Assignments\n",
    "--------------------------"
   ]
  },
  {
   "cell_type": "markdown",
   "id": "ba79f879",
   "metadata": {},
   "source": [
    "### 1. What is the name of the feature responsible for generating Regex objects?\n",
    "`re.compile()` function is used for generating Regex object"
   ]
  },
  {
   "cell_type": "markdown",
   "id": "8271f926",
   "metadata": {},
   "source": [
    "### 2. Why do raw strings often appear in Regex objects?\n",
    "In order to prevent using escape characters i.e to include blackslashes and other characters."
   ]
  },
  {
   "cell_type": "markdown",
   "id": "93968e50",
   "metadata": {},
   "source": [
    "### 3. What is the return value of the search() method?\n",
    "The `search()` method returns the match objects from the input file.\n"
   ]
  },
  {
   "cell_type": "markdown",
   "id": "d11739d0",
   "metadata": {},
   "source": [
    "### 4. From a Match item, how do you get the actual strings that match the pattern?\n",
    "To get the actual strings that match the pattern `group()` method is used, and also using `()` we can separate these group in the pattern we're looking for and filter out using corresponding indexes i.e `group(1) or group(2)`"
   ]
  },
  {
   "cell_type": "markdown",
   "id": "fe99c797",
   "metadata": {},
   "source": [
    "### 5. In the regex which created from the r&#39;(\\d\\d\\d)-(\\d\\d\\d-\\d\\d\\d\\d)&#39;, what does group zero cover? Group 2? Group 1?\n",
    "\n",
    ">**group(0)** - gives the entire match\n",
    "\n",
    ">**group(1)** -  gives the first set of parentheses \n",
    "\n",
    ">**group(2)** - gives the second set of parentheses"
   ]
  },
  {
   "cell_type": "markdown",
   "id": "18b13ab2",
   "metadata": {},
   "source": [
    "### 6. In standard expression syntax, parentheses and intervals have distinct meanings. How can you tell a regex that you want it to fit real parentheses and periods?\n",
    "By using blackslashes we can escape these characters. i.e \\\\. , \\\\( etc."
   ]
  },
  {
   "cell_type": "markdown",
   "id": "c44edf7e",
   "metadata": {},
   "source": [
    "### 7. The findall() method returns a string list or a list of string tuples. What causes it to return one of the two options?\n",
    "If there are groups present in the pattern then it returns a list of string tuples, whereas if no groups are present it returns a string list."
   ]
  },
  {
   "cell_type": "markdown",
   "id": "ddc7a772",
   "metadata": {},
   "source": [
    "### 8. In standard expressions, what does the | character mean?\n",
    " `|` means matching “either, or” between two groups."
   ]
  },
  {
   "cell_type": "markdown",
   "id": "9662d5ef",
   "metadata": {},
   "source": [
    "### 9. In regular expressions, what does the character ? stand for?\n",
    "The` ?` character can either mean “match zero or one of the  group” or be used to signify non-greedy matching.\n",
    "\n",
    "**For example** \n",
    "\n",
    "In case of pattern `bat(wo)?man`, it will match both batman or batwoman based on the input message\n"
   ]
  },
  {
   "cell_type": "markdown",
   "id": "7c53bd79",
   "metadata": {},
   "source": [
    "### 10. In regular expressions, what is the difference between the + and * characters?\n",
    ">`+` means one or more number of times\n",
    "\n",
    ">`*` means zero or more number of times"
   ]
  },
  {
   "cell_type": "markdown",
   "id": "8cda4644",
   "metadata": {},
   "source": [
    "### 11. What is the difference between {4} and {4,5} in regular expression?\n",
    "The {4} matches exactly four instances of the preceding group.\n",
    "\n",
    "The {4,5} matches between four and five instances, and also in general it gives a greedy match"
   ]
  },
  {
   "cell_type": "markdown",
   "id": "f23b6044",
   "metadata": {},
   "source": [
    "### 12. What do you mean by the \\d, \\w, and \\s shorthand character classes signify in regular expressions?\n",
    "\n",
    "`\\d` - matches any digit from `0 to 9`\n",
    "\n",
    "`\\w` - matches any single letter, number or underscore `[a-zA-Z0-9_]`\n",
    "\n",
    "`\\s` - matches a space"
   ]
  },
  {
   "cell_type": "markdown",
   "id": "cdbd9fbb",
   "metadata": {},
   "source": [
    "### 13. What do means by \\D, \\W, and \\S shorthand character classes signify in regular expressions?\n",
    "`\\D` - matches not any digit from 0 to 9\n",
    "\n",
    "`\\W` - matches not any letter or digit from `[a-zA-Z0-9_]`\n",
    "\n",
    "`\\S` - Not a space"
   ]
  },
  {
   "cell_type": "markdown",
   "id": "31e424d2",
   "metadata": {},
   "source": [
    "### 14. What is the difference between .* and .*?\n",
    " `.* -` performs a greedy match\n",
    " \n",
    " `*? - `  performs a non-greedy match."
   ]
  },
  {
   "cell_type": "markdown",
   "id": "76fca050",
   "metadata": {},
   "source": [
    "### 15. What is the syntax for matching both numbers and lowercase letters with a character class?\n",
    "`[a-z0-9]` can be used for matching the above scenario\n"
   ]
  },
  {
   "cell_type": "markdown",
   "id": "a0711f35",
   "metadata": {},
   "source": [
    "### 16. What is the procedure for making a normal expression in regax case insensitive?\n",
    "`re.compile()`- By using re.I or re.IGNORECASE as second argument in that method we can make it case insensitive."
   ]
  },
  {
   "cell_type": "markdown",
   "id": "90cf9a77",
   "metadata": {},
   "source": [
    "### 17. What does the . character normally match? What does it match if re.DOTALL is passed as 2nd argument in re.compile()?\n",
    "  `. - ` character matches any character except the newline character. \n",
    "  \n",
    " `re.DOTALL` is passed as the second argument to `re.compile()`, then the dot will also match newline characters."
   ]
  },
  {
   "cell_type": "markdown",
   "id": "ec3efc2c",
   "metadata": {},
   "source": [
    "### 18. If numReg = re.compile(r&#39;\\d+&#39;), what will numRegex.sub(&#39;X&#39;, &#39;11 drummers, 10 pipers, five rings, 4 hen&#39;) return?\n",
    "\n",
    "The `sub()` call will return the string `'X drummers, X pipers, X hens, five rings'`"
   ]
  },
  {
   "cell_type": "markdown",
   "id": "40b50892",
   "metadata": {},
   "source": [
    "### 19. What does passing re.VERBOSE as the 2nd argument to re.compile() allow to do?\n",
    "`re.VERBOSE` argument allows whitespace and comments inside the string used in the `re.compile()` method"
   ]
  },
  {
   "cell_type": "markdown",
   "id": "b6e417f1",
   "metadata": {},
   "source": [
    "### 20. How would you write a regex that match a number with comma for every three digits? It must match the given following:\n",
    "&#39;42&#39;\n",
    "\n",
    "&#39;1,234&#39;\n",
    "\n",
    "&#39;6,368,745&#39;\n",
    "\n",
    "but not the following:\n",
    "\n",
    "&#39;12,34,567&#39; (which has only two digits between the commas)\n",
    "\n",
    "&#39;1234&#39; (which lacks commas)"
   ]
  },
  {
   "cell_type": "code",
   "execution_count": 1,
   "id": "f3aabf04",
   "metadata": {},
   "outputs": [
    {
     "name": "stdout",
     "output_type": "stream",
     "text": [
      "6,368,745\n"
     ]
    }
   ],
   "source": [
    "import re\n",
    "\n",
    "num = re.compile(r'(^\\d{1,3})(,\\d{3})*$') \n",
    "mo = num.search('6,368,745')\n",
    "print(mo.group())"
   ]
  },
  {
   "cell_type": "markdown",
   "id": "c10202f6",
   "metadata": {},
   "source": [
    "### 21. How would you write a regex that matches the full name of someone whose last name is Watanabe? You can assume that the first name that comes before it will always be one word that begins with a capital letter. The regex must match the following:\n",
    "\n",
    "`\"Haruto Watanabe\"`\n",
    "\n",
    "`\"Alice Watanabe\"`\n",
    "\n",
    "`\"Robocop Watanabe\"`\n",
    "\n",
    "**but not the following:**\n",
    "\n",
    "`\"haruto Watanabe\"`(where the first name is not capitalized)\n",
    "\n",
    "`\"Mr. Watanabe\"` (where the preceding word has a nonletter character)\n",
    "\n",
    "`\"Watanabe\"`    (which has no first name)\n",
    "\n",
    "`\"Haruto watanabe\"` (where Watanabe is not capitalized)"
   ]
  },
  {
   "cell_type": "code",
   "execution_count": 2,
   "id": "ccccd8a6",
   "metadata": {},
   "outputs": [
    {
     "name": "stdout",
     "output_type": "stream",
     "text": [
      "Robocop Watanabe\n"
     ]
    }
   ],
   "source": [
    "fullname = re.compile(r'[A-Z][a-z]*\\sWatanabe')\n",
    "name = fullname.search('Robocop Watanabe')\n",
    "mo = name.group()\n",
    "print(mo)"
   ]
  },
  {
   "cell_type": "code",
   "execution_count": 3,
   "id": "82b46a2d",
   "metadata": {},
   "outputs": [
    {
     "name": "stdout",
     "output_type": "stream",
     "text": [
      "The sentences given does not have the pattern match you're looking for\n"
     ]
    }
   ],
   "source": [
    "try:\n",
    "    fullname = re.compile(r'[A-Z][a-z]*\\sWatanabe')\n",
    "    name = fullname.search('Haruto watanabe')\n",
    "    mo = name.group()\n",
    "    print(mo)\n",
    "except AttributeError:\n",
    "    print(\"The sentences given does not have the pattern match you're looking for\")"
   ]
  },
  {
   "cell_type": "markdown",
   "id": "e0111f9f",
   "metadata": {},
   "source": [
    "### 22. How would you write a regex that matches a sentence where the first word is either Alice, Bob, or Carol; the second word is either eats, pets, or throws; the third word is apples, cats, or baseballs; and the sentence ends with a period? This regex should be case-insensitive. It must match the following:\n",
    "\n",
    "   >&#39;Alice eats apples.&#39;\n",
    "\n",
    ">&#39;Bob pets cats.&#39;\n",
    "\n",
    ">&#39;Carol throws baseballs.&#39;\n",
    "\n",
    ">&#39;Alice throws Apples.&#39;\n",
    "\n",
    ">&#39;BOB EATS CATS.&#39;\n",
    "\n",
    "**but not the following:**\n",
    "\n",
    ">&#39;RoboCop eats apples.&#39;\n",
    "\n",
    ">&#39;ALICE THROWS FOOTBALLS.&#39;\n",
    "\n",
    ">&#39;Carol eats 7 cats.&#39;"
   ]
  },
  {
   "cell_type": "code",
   "execution_count": 4,
   "id": "474d6e01",
   "metadata": {},
   "outputs": [
    {
     "name": "stdout",
     "output_type": "stream",
     "text": [
      "Alice throws Apples.\n"
     ]
    }
   ],
   "source": [
    "sen = re.compile(r'(Alice|Bob|Carol)\\s(eats|pets|throws)\\s(apples|cats|baseballs)\\.', re.IGNORECASE)\n",
    "mo = sen.search('Alice throws Apples.')\n",
    "print(mo.group())"
   ]
  },
  {
   "cell_type": "code",
   "execution_count": 5,
   "id": "1847c502",
   "metadata": {},
   "outputs": [
    {
     "name": "stdout",
     "output_type": "stream",
     "text": [
      "The sentences given does not have the pattern match you're looking for\n"
     ]
    }
   ],
   "source": [
    "try:\n",
    "    sen = re.compile(r'(Alice|Bob|Carol)\\s(eats|pets|throws)\\s(apples|cats|baseballs)\\.', re.IGNORECASE)\n",
    "    mo = sen.search('ALICE THROWS FOOTBALLS.')\n",
    "    print(mo.group())\n",
    "except AttributeError:\n",
    "    print(\"The sentences given does not have the pattern match you're looking for\")"
   ]
  }
 ],
 "metadata": {
  "kernelspec": {
   "display_name": "Python 3 (ipykernel)",
   "language": "python",
   "name": "python3"
  },
  "language_info": {
   "codemirror_mode": {
    "name": "ipython",
    "version": 3
   },
   "file_extension": ".py",
   "mimetype": "text/x-python",
   "name": "python",
   "nbconvert_exporter": "python",
   "pygments_lexer": "ipython3",
   "version": "3.9.7"
  }
 },
 "nbformat": 4,
 "nbformat_minor": 5
}
