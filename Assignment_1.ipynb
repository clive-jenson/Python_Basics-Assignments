{
 "cells": [
  {
   "cell_type": "markdown",
   "id": "5e57ef7a",
   "metadata": {},
   "source": [
    "# Python Basics - Assignments\n",
    "--------------------------"
   ]
  },
  {
   "cell_type": "markdown",
   "id": "c3fd55d7",
   "metadata": {},
   "source": [
    "### 1. In the below elements which of them are values or an expression? eg:- values can be integer or string and expressions will be mathematical operators.\n",
    "    *            - Expression\n",
    "    'hello'      - Value\n",
    "    -87.8        - Value\n",
    "    -            - Expression\n",
    "    /            - Expression\n",
    "    +            - Expression\n",
    "    6            - Value"
   ]
  },
  {
   "cell_type": "markdown",
   "id": "b91006fc",
   "metadata": {},
   "source": [
    "### 2. What is the difference between string and variable?\n",
    "i) Strings is a specific data type which is **immutable** in nature, whereas variable is like a placeholder pointing to a specific memory in the memory of a system.\n",
    "\n",
    "ii) Strings are enclosed using **' '** or **\" \"** (example: \"Hello\"), and is a general sequence of characters or text  information can be stored inside the variable. In case of variables, they can also hold other data types (int,float,string etc.) the information is assigned using **=** symbol.\n"
   ]
  },
  {
   "cell_type": "markdown",
   "id": "26124129",
   "metadata": {},
   "source": [
    "### 3. Describe three different data types.\n",
    "I) **int** - It is a numerical data type used to store numbers that don't have any fractional part.\n",
    "\n",
    "II) **string** - It is a sequence of characters or text information, they are immutable in nature.\n",
    "\n",
    "III) **bool** - It represents binary like information 0- False, and 1- True state."
   ]
  },
  {
   "cell_type": "markdown",
   "id": "9509775e",
   "metadata": {},
   "source": [
    "### 4. What is an expression made up of? What do all expressions do?\n",
    "They are instructions that incluce combination of values and operator to give an output. The operator is mathematical and the operation is perfomed to produce result, moreover the result is a representation of the value.\n",
    "\n"
   ]
  },
  {
   "cell_type": "markdown",
   "id": "c61114ac",
   "metadata": {},
   "source": [
    "### 5. This assignment statements, like spam = 10. What is the difference between and expression and a statement?\n",
    "Expression are themselves representation of a value which includes a combination of operand and operators.\n",
    "\n",
    "In case of statement, it is like an action or command such as print, assigning a value, if condtions etc. a statement is an instruction which is executed."
   ]
  },
  {
   "cell_type": "markdown",
   "id": "d7a44e60",
   "metadata": {},
   "source": [
    "### 6. After running the following code, what does the variable bacon contain?\n",
    "bacon = 22\n",
    "\n",
    "bacon + 1\n",
    "\n",
    "The value will be the same (value = 22).\n",
    "\n",
    "This is because the expression is evaluated but not stored in any variable to make change the following code should be used:\n",
    "\n",
    "```bacon = bacon + 1 ```"
   ]
  },
  {
   "cell_type": "markdown",
   "id": "285943b6",
   "metadata": {},
   "source": [
    "### 7. What should the values of the following two terms be?\n",
    "&#39;spam&#39; + &#39;spamspam&#39;\n",
    "\n",
    "&#39;spam&#39; * 3\n",
    "\n",
    "\n",
    "**Both gives same value**"
   ]
  },
  {
   "cell_type": "code",
   "execution_count": 2,
   "id": "be4b3598",
   "metadata": {},
   "outputs": [
    {
     "data": {
      "text/plain": [
       "'spamspamspam'"
      ]
     },
     "execution_count": 2,
     "metadata": {},
     "output_type": "execute_result"
    }
   ],
   "source": [
    "\"spam\" +'spamspam'"
   ]
  },
  {
   "cell_type": "code",
   "execution_count": 3,
   "id": "967e7931",
   "metadata": {},
   "outputs": [
    {
     "data": {
      "text/plain": [
       "'spamspamspam'"
      ]
     },
     "execution_count": 3,
     "metadata": {},
     "output_type": "execute_result"
    }
   ],
   "source": [
    "\"spam\" * 3 "
   ]
  },
  {
   "cell_type": "markdown",
   "id": "95ff2a74",
   "metadata": {},
   "source": [
    "### 8. Why is eggs a valid variable name while 100 is invalid?\n",
    "Variables cannot start with integer. \n",
    "\n",
    "There is a specific naming convention for variables, where _ , Upper, lower alphabets are allowed as starting character of a variable. "
   ]
  },
  {
   "cell_type": "markdown",
   "id": "fb129f2f",
   "metadata": {},
   "source": [
    "### 9. What three functions can be used to get the integer, floating-point number, or stringversion of a value?\n",
    "1. **int()**\n",
    "2. **float()**\n",
    "3. **str()**"
   ]
  },
  {
   "cell_type": "markdown",
   "id": "707331de",
   "metadata": {},
   "source": [
    "### 10. Why does this expression cause an error? How can you fix it?\n",
    "&#39;I have eaten &#39; + 99 + &#39; burritos.&#39;\n",
    "\n",
    "The reason for error is due to data type error, i.e int cannot be concatenated with strings. Therefore, to fix the code 99 should be converted to str using **str()**\n",
    "\n",
    "```'I have eaten' + str(99) + 'burritos.'```"
   ]
  },
  {
   "cell_type": "code",
   "execution_count": null,
   "id": "7e23bb8d",
   "metadata": {},
   "outputs": [],
   "source": []
  }
 ],
 "metadata": {
  "kernelspec": {
   "display_name": "Python 3 (ipykernel)",
   "language": "python",
   "name": "python3"
  },
  "language_info": {
   "codemirror_mode": {
    "name": "ipython",
    "version": 3
   },
   "file_extension": ".py",
   "mimetype": "text/x-python",
   "name": "python",
   "nbconvert_exporter": "python",
   "pygments_lexer": "ipython3",
   "version": "3.9.7"
  }
 },
 "nbformat": 4,
 "nbformat_minor": 5
}
