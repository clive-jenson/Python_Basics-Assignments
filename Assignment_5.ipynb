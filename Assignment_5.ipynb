{
 "cells": [
  {
   "cell_type": "markdown",
   "id": "7aea6846",
   "metadata": {},
   "source": [
    "# Python Basics - Assignment\n",
    "-------------------"
   ]
  },
  {
   "cell_type": "markdown",
   "id": "19d7a0f1",
   "metadata": {},
   "source": [
    "### 1. What does an empty dictionary&#39;s code look like?\n",
    "An empty dictionary is created using curly brackets``{}``.\n",
    "\n",
    "i.e. `country = {}`"
   ]
  },
  {
   "cell_type": "markdown",
   "id": "a5a6706e",
   "metadata": {},
   "source": [
    "### 2. What is the value of a dictionary value with the key &#39;foo&#39; and the value 42?\n",
    "Dictionary value is given as: \n",
    "`items = {'foo': 42}`\n",
    "\n",
    "Here the value corresponding to the key **'foo'** is 42.\n",
    "\n",
    "i.e. `items['foo'] = 42`"
   ]
  },
  {
   "cell_type": "markdown",
   "id": "bdba8911",
   "metadata": {},
   "source": [
    "### 3. What is the most significant distinction between a dictionary and a list?\n",
    "In **dictionary** order is not guaranteed, also it follows a ***key and value pair*** entry. Whereas **list** are ordered in terms of indexes.\n",
    "\n",
    "The keys in a dictionary can be of any data type, and the value is searched based on the key. In case of lists the value can be accessed by indexing and slicing method.\n"
   ]
  },
  {
   "cell_type": "markdown",
   "id": "17fed94f",
   "metadata": {},
   "source": [
    "### 4. What happens if you try to access spam[&#39;foo&#39;] if spam is {&#39;bar&#39;: 100}?\n",
    "\n",
    "`spam = {'bar':100}`\n",
    "\n",
    "`spam['foo']`\n",
    "\n",
    "It will produce an **missing key error** as there is no key to be found as **'foo'** in the dictionary."
   ]
  },
  {
   "cell_type": "code",
   "execution_count": 1,
   "id": "ba3b15f8",
   "metadata": {},
   "outputs": [
    {
     "ename": "KeyError",
     "evalue": "'foo'",
     "output_type": "error",
     "traceback": [
      "\u001b[1;31m---------------------------------------------------------------------------\u001b[0m",
      "\u001b[1;31mKeyError\u001b[0m                                  Traceback (most recent call last)",
      "\u001b[1;32m~\\AppData\\Local\\Temp/ipykernel_17416/4012448315.py\u001b[0m in \u001b[0;36m<module>\u001b[1;34m\u001b[0m\n\u001b[0;32m      1\u001b[0m \u001b[1;31m# Solution 4\u001b[0m\u001b[1;33m\u001b[0m\u001b[1;33m\u001b[0m\u001b[0m\n\u001b[0;32m      2\u001b[0m \u001b[0mspam\u001b[0m \u001b[1;33m=\u001b[0m \u001b[1;33m{\u001b[0m\u001b[1;34m'bar'\u001b[0m\u001b[1;33m:\u001b[0m\u001b[1;36m100\u001b[0m\u001b[1;33m}\u001b[0m\u001b[1;33m\u001b[0m\u001b[1;33m\u001b[0m\u001b[0m\n\u001b[1;32m----> 3\u001b[1;33m \u001b[0mspam\u001b[0m\u001b[1;33m[\u001b[0m\u001b[1;34m'foo'\u001b[0m\u001b[1;33m]\u001b[0m\u001b[1;33m\u001b[0m\u001b[1;33m\u001b[0m\u001b[0m\n\u001b[0m",
      "\u001b[1;31mKeyError\u001b[0m: 'foo'"
     ]
    }
   ],
   "source": [
    "# Solution 4\n",
    "spam = {'bar':100}\n",
    "spam['foo']"
   ]
  },
  {
   "cell_type": "markdown",
   "id": "90567b16",
   "metadata": {},
   "source": [
    "### 5. If a dictionary is stored in spam, what is the difference between the expressions &#39;cat&#39; in spam and &#39;cat&#39; in spam.keys()?\n",
    "There is **no difference** as `'cat' in spam` tests whether there is a value 'cat' in the keys list. \n",
    "\n",
    "At the same time  `'cat' in spam.keys()` does the same job."
   ]
  },
  {
   "cell_type": "markdown",
   "id": "09d8bea1",
   "metadata": {},
   "source": [
    "### 6. If a dictionary is stored in spam, what is the difference between the expressions &#39;cat&#39; in spam and &#39;cat&#39; in spam.values()?\n",
    "`'cat' in spam` - It checks whether key `'cat'` is there in the dictionary.\n",
    "\n",
    "`'cat' in spam.values()` - It checks whether there is a value `'cat'` for one of the keys in the dictionary."
   ]
  },
  {
   "cell_type": "markdown",
   "id": "7c8eafe6",
   "metadata": {},
   "source": [
    "### 7. What is a shortcut for the following code?\n",
    "``` if 'color' not in spam:```\n",
    "\n",
    "```spam['color'] = 'black'```\n",
    "\n",
    "By using the function `setdefault('key', 'value')`"
   ]
  },
  {
   "cell_type": "code",
   "execution_count": 2,
   "id": "3a24df05",
   "metadata": {},
   "outputs": [
    {
     "data": {
      "text/plain": [
       "'black'"
      ]
     },
     "execution_count": 2,
     "metadata": {},
     "output_type": "execute_result"
    }
   ],
   "source": [
    "# Solution 7\n",
    "spam.setdefault('color', 'black')"
   ]
  },
  {
   "cell_type": "markdown",
   "id": "5a137a76",
   "metadata": {},
   "source": [
    "### 8. How do you &quot;pretty print&quot; dictionary values using which module and function?\n",
    "`import pprint`\n",
    "\n",
    "`pprint.pprint(items)`"
   ]
  }
 ],
 "metadata": {
  "kernelspec": {
   "display_name": "Python 3 (ipykernel)",
   "language": "python",
   "name": "python3"
  },
  "language_info": {
   "codemirror_mode": {
    "name": "ipython",
    "version": 3
   },
   "file_extension": ".py",
   "mimetype": "text/x-python",
   "name": "python",
   "nbconvert_exporter": "python",
   "pygments_lexer": "ipython3",
   "version": "3.9.7"
  }
 },
 "nbformat": 4,
 "nbformat_minor": 5
}
