{
 "cells": [
  {
   "cell_type": "markdown",
   "id": "88e32c3f",
   "metadata": {},
   "source": [
    "# Python Basics - Assignment\n",
    "-------------------"
   ]
  },
  {
   "cell_type": "markdown",
   "id": "f43812eb",
   "metadata": {},
   "source": [
    "### 1. What are the two values of the Boolean data type? How do you write them?\n",
    "The two values of Boolean data type is **True / False**\n",
    "\n",
    "They are just written as True and False with capitalize (first character alone) to check whether a condition is true or false, the bool() function can be used to test a value. \n",
    "\n",
    "    bool(12) - True\n",
    "    bool([]) - False"
   ]
  },
  {
   "cell_type": "markdown",
   "id": "3418bfdc",
   "metadata": {},
   "source": [
    "### 2. What are the three different types of Boolean operators?\n",
    "The three types of Boolean operators are\n",
    "**AND, OR and NOT**\n",
    "\n",
    "    AND - It returns True if both given statements are true\n",
    "\n",
    "    OR   - It returns True if either of the given statements are true\n",
    "\n",
    "    NOT - It reverses the result i.e. returns False if the result is true"
   ]
  },
  {
   "cell_type": "markdown",
   "id": "b50b6fd1",
   "metadata": {},
   "source": [
    "### 3. Make a list of each Boolean operator&#39;s truth tables (i.e. every possible combination of Boolean values for the operator and what it evaluate ).\n",
    "**AND**\n",
    "\n",
    "| Input A     | Input B     | Output    |\n",
    "| ----------- | ----------- |           |\n",
    "| False       | False      |   False    |\n",
    "| False       | True   | False          |\n",
    "| True        | False   | False         |\n",
    "| True        | True   |True            |\n",
    "\n",
    "\n",
    "**OR**\n",
    "\n",
    "| Input A     | Input B     | Output    |\n",
    "| ----------- | ----------- |           |\n",
    "| False       | False      |   False    |\n",
    "| False       | True   | True         |\n",
    "| True        | False   | True        |\n",
    "| True        | True   |True            |\n",
    "\n",
    "**NOT**\n",
    "\n",
    "| Input A     | Input B     | Output (For A)   |\n",
    "| ----------- | ----------- |           |\n",
    "| False       | False      |   True    |\n",
    "| False       | True   | True         |\n",
    "| True        | False   | False        |\n",
    "| True        | True   |False           |\n",
    "\n",
    "When these operators are used in code, they should be in smallcase.\n",
    "\n",
    "\n"
   ]
  },
  {
   "cell_type": "markdown",
   "id": "344cc8c5",
   "metadata": {},
   "source": [
    "###  4. What are the values of the following expressions?\n",
    "    (5 > 4) and (3 == 5)                  - \n",
    "   **False**\n",
    "\n",
    "    not (5>4)                             \n",
    "   **False** \n",
    "    \n",
    "    (5 > 4) or (3 == 5)                  \n",
    "   **True**\n",
    "\n",
    "    not((5 > 4) or (3 == 5))             \n",
    "   **False**\n",
    "    \n",
    "    (True and True) and (True == False)  \n",
    "   **False**\n",
    "\n",
    "    (not False) or (not True)           \n",
    "   **True**\n",
    "   \n",
    "   Below the verification of the expressions are given.\n",
    "  "
   ]
  },
  {
   "cell_type": "code",
   "execution_count": 1,
   "id": "18d84d29",
   "metadata": {},
   "outputs": [
    {
     "name": "stdout",
     "output_type": "stream",
     "text": [
      "False\n",
      "False\n",
      "True\n",
      "False\n",
      "False\n",
      "True\n"
     ]
    }
   ],
   "source": [
    "print((5 > 4) and (3 == 5))\n",
    "print( not (5>4))\n",
    "print((5 > 4) or (3 == 5))\n",
    "print( not((5 > 4) or (3 == 5)))\n",
    "print((True and True) and (True == False))\n",
    "print((not False) or (not True))"
   ]
  },
  {
   "cell_type": "markdown",
   "id": "294b7f7f",
   "metadata": {},
   "source": [
    "### 5. What are the six comparison operators?\n",
    "##### Relational operators or comparison operators\n",
    "\n",
    "There are six comparison operators are they are:\n",
    "\n",
    "    Equal to                      ==\n",
    "\n",
    "    Less than or equal to         <=\t     \n",
    "\n",
    "    Greater than\t              >\t \n",
    "    \n",
    "    Less than                     <\n",
    "\n",
    "    Greater than or equal to\t  >=\t      \n",
    "\n",
    "    Does not equal\t         <> or !="
   ]
  },
  {
   "cell_type": "markdown",
   "id": "7314bd08",
   "metadata": {},
   "source": [
    "### 6. How do you tell the difference between the equal to and assignment operators? Describe a condition and when you would use one.\n",
    "**equal to** ==\n",
    "\n",
    "* It is used to compare the operands and check whether both have same value. \n",
    " When they are equal True state is generated or else False\n",
    " \n",
    "* int or numericals can be used on left hand side (2==3)\n",
    "\n",
    "\n",
    "**assignment operator** =\n",
    "\n",
    "* It is used for assigning value to a variable\n",
    "    \n",
    "* It cannot have numerical data type on left hand side (1=name not possible)\n"
   ]
  },
  {
   "cell_type": "markdown",
   "id": "887435a1",
   "metadata": {},
   "source": [
    "### 7. Identify the three blocks in this code:\n",
    "____________________\n",
    "spam = 0    - **block 1**\n",
    "_____________________________________________\n",
    "\n",
    "if spam == 10:  - **block 2**\n",
    "\n",
    "print(&#39;eggs&#39;)\n",
    "_________________________________________\n",
    "\n",
    "if spam &gt; 5: - **block 3**\n",
    "\n",
    "   print(&#39;bacon&#39;)\n",
    "\n",
    "else:\n",
    "\n",
    "print(&#39;ham&#39;)\n",
    "\n",
    "print(&#39;spam&#39;)\n",
    "\n",
    "print(&#39;spam&#39;)\n",
    "_______________"
   ]
  },
  {
   "cell_type": "markdown",
   "id": "2be9ac6c",
   "metadata": {},
   "source": [
    "### 8. Write code that prints Hello if 1 is stored in spam, prints Howdy if 2 is stored in spam, and prints Greetings! if anything else is stored in spam.\n"
   ]
  },
  {
   "cell_type": "code",
   "execution_count": 14,
   "id": "d5b6d658",
   "metadata": {},
   "outputs": [
    {
     "name": "stdout",
     "output_type": "stream",
     "text": [
      "What do you like to store in spam: 1\n",
      "Hello\n"
     ]
    }
   ],
   "source": [
    "spam = int(input(\"What do you like to store in spam: \"))\n",
    "\n",
    "if spam == 1:\n",
    "    print(\"Hello\")\n",
    "elif spam == 2:\n",
    "    print(\"Howdy\")\n",
    "else:\n",
    "    print(\"Greetings!\")"
   ]
  },
  {
   "cell_type": "markdown",
   "id": "bd431269",
   "metadata": {},
   "source": [
    "### 9. If your programme is stuck in an endless loop, what keys you’ll press?\n",
    "Esc key can be used to interrupt an endless loop, also cntrl + c is a viable option."
   ]
  },
  {
   "cell_type": "markdown",
   "id": "70830d0d",
   "metadata": {},
   "source": [
    "### 10. How can you tell the difference between break and continue?\n",
    "**break** - It is used to terminate the execution of loop and goes to the next block of code.\n",
    "\n",
    "**continue** - It is used to skip the iterable and continue with the loop without terminating it."
   ]
  },
  {
   "cell_type": "markdown",
   "id": "bec80ebf",
   "metadata": {},
   "source": [
    "### 11. In a for loop, what is the difference between range(10), range(0, 10), and range(0, 10, 1)?\n",
    "All the following will give the same result in a for loop.\n",
    "\n",
    "The arguments in range function are **range(start,stop,step)**, by default the step size is 1 and also start is taken as 1. \n",
    "\n",
    "Therefore, only the stop size i.e. range(10) will produce 0 to 9"
   ]
  },
  {
   "cell_type": "markdown",
   "id": "04494c77",
   "metadata": {},
   "source": [
    "### 12. Write a short program that prints the numbers 1 to 10 using a for loop. Then write an equivalent program that prints the numbers 1 to 10 using a while loop."
   ]
  },
  {
   "cell_type": "code",
   "execution_count": 3,
   "id": "877ec562",
   "metadata": {},
   "outputs": [
    {
     "name": "stdout",
     "output_type": "stream",
     "text": [
      "Using for loop\n",
      "\n",
      "\n",
      "1\n",
      "2\n",
      "3\n",
      "4\n",
      "5\n",
      "6\n",
      "7\n",
      "8\n",
      "9\n",
      "10\n",
      "\n",
      "\n",
      "Using while loop\n",
      "\n",
      "1\n",
      "2\n",
      "3\n",
      "4\n",
      "5\n",
      "6\n",
      "7\n",
      "8\n",
      "9\n",
      "10\n"
     ]
    }
   ],
   "source": [
    "# Answer 12\n",
    "\n",
    "print(\"Using for loop\")\n",
    "print(\"\\n\")\n",
    "\n",
    "for i in range(1,11):\n",
    "     print(i)\n",
    "print(\"\\n\")\n",
    "\n",
    "print(\"Using while loop\")\n",
    "print(\"\")\n",
    "num = 1\n",
    "while (num <= 10):\n",
    "    print(num)\n",
    "    num += 1\n",
    "     \n",
    "    "
   ]
  },
  {
   "cell_type": "markdown",
   "id": "b88cdff9",
   "metadata": {},
   "source": [
    "### 13. If you had a function named bacon() inside a module named spam, how would you call it after importing spam?\n",
    "\n",
    "```import spam```\n",
    "\n",
    "```spam.bacon()```\n",
    "\n"
   ]
  }
 ],
 "metadata": {
  "kernelspec": {
   "display_name": "Python 3 (ipykernel)",
   "language": "python",
   "name": "python3"
  },
  "language_info": {
   "codemirror_mode": {
    "name": "ipython",
    "version": 3
   },
   "file_extension": ".py",
   "mimetype": "text/x-python",
   "name": "python",
   "nbconvert_exporter": "python",
   "pygments_lexer": "ipython3",
   "version": "3.9.7"
  }
 },
 "nbformat": 4,
 "nbformat_minor": 5
}
